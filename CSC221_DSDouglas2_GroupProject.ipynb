{
 "cells": [
  {
   "cell_type": "code",
   "execution_count": 25,
   "metadata": {},
   "outputs": [],
   "source": [
    "import urllib.request\n",
    "from bs4 import BeautifulSoup\n",
    "\n",
    "url = \"https://en.wikipedia.org/wiki/List_of_best-selling_albums\"\n",
    "page = urllib.request.urlopen(url)\n",
    "soup = BeautifulSoup(page, \"lxml\")\n",
    "#print(soup.prettify())\n",
    "right_table=soup.find_all('table', class_='wikitable sortable')\n",
    "#print(right_table[4])\n",
    "A=[]\n",
    "B=[]\n",
    "C=[]\n",
    "D=[]\n",
    "\n",
    "\n",
    "for row in right_table[4].findAll('tr'):\n",
    "    cells=row.findAll('td')\n",
    "    if len(cells)==5:\n",
    "        A.append(cells[0].find(text=True))\n",
    "        B.append(cells[1].find(text=True))\n",
    "        C.append(cells[2].find(text=True))\n",
    "        D.append(cells[3].find(text=True))\n",
    "        \n",
    "import pandas as pd\n",
    "df=pd.DataFrame(A,columns=['Year'])\n",
    "df['Album']=B\n",
    "df['Artist(s)']=C\n",
    "df['Sales']=D\n",
    "#print(df)\n",
    "\n",
    "#url = \"https://en.wikipedia.org/wiki/List_of_best-selling_albums\"\n",
    "#tables = pd.read_html(url) \n",
    "#tables[5]\n",
    "\n",
    "df.to_csv('CSC221-webscrape_data.csv')"
   ]
  },
  {
   "cell_type": "code",
   "execution_count": null,
   "metadata": {},
   "outputs": [],
   "source": []
  },
  {
   "cell_type": "code",
   "execution_count": null,
   "metadata": {},
   "outputs": [],
   "source": []
  }
 ],
 "metadata": {
  "kernelspec": {
   "display_name": "Python 3",
   "language": "python",
   "name": "python3"
  },
  "language_info": {
   "codemirror_mode": {
    "name": "ipython",
    "version": 3
   },
   "file_extension": ".py",
   "mimetype": "text/x-python",
   "name": "python",
   "nbconvert_exporter": "python",
   "pygments_lexer": "ipython3",
   "version": "3.8.5"
  }
 },
 "nbformat": 4,
 "nbformat_minor": 4
}
